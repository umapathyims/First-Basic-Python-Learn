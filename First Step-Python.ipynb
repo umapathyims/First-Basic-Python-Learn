{
 "cells": [
  {
   "cell_type": "markdown",
   "id": "fecc82a8-0814-4b68-9554-d0f834799f2b",
   "metadata": {},
   "source": [
    "#PYTHON-BASIC  Markdown "
   ]
  },
  {
   "cell_type": "raw",
   "id": "fa8e235c-a2f6-4590-81f2-3ec3df77224b",
   "metadata": {},
   "source": [
    "Markdown -#(Big size),##(Medium),###(Smaller),####(Even Smaller)\n",
    "Raw - Multiple line inclusion"
   ]
  },
  {
   "cell_type": "code",
   "execution_count": 7,
   "id": "7e073b0c-6fbb-4fc4-adb3-9c9b03316f93",
   "metadata": {},
   "outputs": [
    {
     "data": {
      "text/plain": [
       "'3.12.7 | packaged by Anaconda, Inc. | (main, Oct  4 2024, 13:17:27) [MSC v.1929 64 bit (AMD64)]'"
      ]
     },
     "execution_count": 7,
     "metadata": {},
     "output_type": "execute_result"
    }
   ],
   "source": [
    "#26-01-25\n",
    "import sys\n",
    "sys.version"
   ]
  },
  {
   "cell_type": "code",
   "execution_count": 25,
   "id": "7e2f9b11-4946-470a-8c9f-b1da346a6f05",
   "metadata": {},
   "outputs": [
    {
     "name": "stdout",
     "output_type": "stream",
     "text": [
      "There are 35 key words\n"
     ]
    }
   ],
   "source": [
    "import keyword\n",
    "print(f'There are {len(keyword.kwlist)} key words')\n"
   ]
  },
  {
   "cell_type": "code",
   "execution_count": null,
   "id": "be212924-af52-4bab-8eb5-f22c0236c55f",
   "metadata": {},
   "outputs": [],
   "source": [
    "#Logical Keywords\n",
    "True\n",
    "False\n",
    "not\n",
    "and\n",
    "or\n",
    "is\n",
    "None\n",
    "in"
   ]
  },
  {
   "cell_type": "code",
   "execution_count": null,
   "id": "d3069173-b4b7-4c84-9c7e-51a134aea158",
   "metadata": {},
   "outputs": [],
   "source": [
    "#control flow keywords\n",
    "if\n",
    "else\n",
    "elif\n",
    "for\n",
    "while\n",
    "break\n",
    "continue\n",
    "pass\n",
    "try\n",
    "except\n",
    "finally\n",
    "raise\n",
    "return\n",
    "yield"
   ]
  },
  {
   "cell_type": "code",
   "execution_count": null,
   "id": "d0c41b9a-bcbc-41a3-a15f-00eefdcaa2d1",
   "metadata": {},
   "outputs": [],
   "source": [
    "#Definition Keywords\n",
    "def\n",
    "global\n",
    "nonlocal\n",
    "class\n",
    "lambda\n",
    "with\n",
    "assert\n",
    "del"
   ]
  },
  {
   "cell_type": "code",
   "execution_count": null,
   "id": "801a4aa7-c0c6-4303-8931-639c5338f5d0",
   "metadata": {},
   "outputs": [],
   "source": [
    "#Module Keywords\n",
    "import\n",
    "from\n",
    "as"
   ]
  },
  {
   "cell_type": "code",
   "execution_count": 59,
   "id": "2cbc317e-48be-4d90-9d24-a6d91e5e368c",
   "metadata": {},
   "outputs": [
    {
     "name": "stdout",
     "output_type": "stream",
     "text": [
      "30\n",
      "-10\n",
      "200\n",
      "0.5\n",
      "0\n",
      "10\n",
      "100000000000000000000\n"
     ]
    }
   ],
   "source": [
    "#Arithematic Operators\n",
    "a=10\n",
    "b=20\n",
    "print(a+b)\n",
    "print(a-b)\n",
    "print(a*b)\n",
    "print(a/b)\n",
    "print(a//b)\n",
    "print(a%b)\n",
    "print(a**b)"
   ]
  },
  {
   "cell_type": "code",
   "execution_count": 79,
   "id": "e89d9a2f-280d-43cd-b495-8df6150844f1",
   "metadata": {},
   "outputs": [
    {
     "data": {
      "text/plain": [
       "'umsmathy'"
      ]
     },
     "execution_count": 79,
     "metadata": {},
     "output_type": "execute_result"
    }
   ],
   "source": [
    "#Concentation\n",
    "a=\"ums\"\n",
    "b=\"mathy\"\n",
    "a+b"
   ]
  },
  {
   "cell_type": "code",
   "execution_count": 81,
   "id": "f86dc0e8-66cb-497d-8ca8-b4d5663e0239",
   "metadata": {},
   "outputs": [
    {
     "data": {
      "text/plain": [
       "str"
      ]
     },
     "execution_count": 81,
     "metadata": {},
     "output_type": "execute_result"
    }
   ],
   "source": [
    "# datatype\n",
    "type(a)"
   ]
  },
  {
   "cell_type": "code",
   "execution_count": 85,
   "id": "f4b6dd58-3a8d-437a-a7ab-45cb2dfd05c8",
   "metadata": {},
   "outputs": [
    {
     "data": {
      "text/plain": [
       "complex"
      ]
     },
     "execution_count": 85,
     "metadata": {},
     "output_type": "execute_result"
    }
   ],
   "source": [
    "# complex numbers Capital J &  Small j both accepted\n",
    "c=2+5j\n",
    "type(c)"
   ]
  },
  {
   "cell_type": "code",
   "execution_count": 87,
   "id": "cf37986b-c16e-44b4-94dc-3caa9dae0c01",
   "metadata": {},
   "outputs": [
    {
     "data": {
      "text/plain": [
       "complex"
      ]
     },
     "execution_count": 87,
     "metadata": {},
     "output_type": "execute_result"
    }
   ],
   "source": [
    "c=2+5J\n",
    "type(c)"
   ]
  },
  {
   "cell_type": "code",
   "execution_count": 93,
   "id": "7a601685-f708-4933-ab35-cd9ec3aec9f7",
   "metadata": {},
   "outputs": [
    {
     "data": {
      "text/plain": [
       "2286565659408"
      ]
     },
     "execution_count": 93,
     "metadata": {},
     "output_type": "execute_result"
    }
   ],
   "source": [
    "# addres checking / Memory location detaisl\n",
    "id(c)"
   ]
  },
  {
   "cell_type": "code",
   "execution_count": 95,
   "id": "697a3de4-fd83-4c46-b695-333638d3301d",
   "metadata": {},
   "outputs": [
    {
     "data": {
      "text/plain": [
       "12"
      ]
     },
     "execution_count": 95,
     "metadata": {},
     "output_type": "execute_result"
    }
   ],
   "source": [
    "gopi='Vivekanadana'\n",
    "len(gopi)"
   ]
  },
  {
   "cell_type": "code",
   "execution_count": 99,
   "id": "2a586be4-5623-4a61-b981-5d4587328871",
   "metadata": {},
   "outputs": [
    {
     "data": {
      "text/plain": [
       "'iv'"
      ]
     },
     "execution_count": 99,
     "metadata": {},
     "output_type": "execute_result"
    }
   ],
   "source": [
    "gopi[1:3]"
   ]
  },
  {
   "cell_type": "code",
   "execution_count": 103,
   "id": "baf438cb-00cd-4fb4-853a-d65f613d1b24",
   "metadata": {},
   "outputs": [
    {
     "ename": "AttributeError",
     "evalue": "'str' object has no attribute 'capital'",
     "output_type": "error",
     "traceback": [
      "\u001b[1;31m---------------------------------------------------------------------------\u001b[0m",
      "\u001b[1;31mAttributeError\u001b[0m                            Traceback (most recent call last)",
      "Cell \u001b[1;32mIn[103], line 1\u001b[0m\n\u001b[1;32m----> 1\u001b[0m gopi\u001b[38;5;241m.\u001b[39mcapital()\n",
      "\u001b[1;31mAttributeError\u001b[0m: 'str' object has no attribute 'capital'"
     ]
    }
   ],
   "source": [
    "gopi.capital()"
   ]
  },
  {
   "cell_type": "code",
   "execution_count": null,
   "id": "6b73944f-62e8-48d8-9ee9-bd48daba0428",
   "metadata": {},
   "outputs": [],
   "source": []
  }
 ],
 "metadata": {
  "kernelspec": {
   "display_name": "Python 3 (ipykernel)",
   "language": "python",
   "name": "python3"
  },
  "language_info": {
   "codemirror_mode": {
    "name": "ipython",
    "version": 3
   },
   "file_extension": ".py",
   "mimetype": "text/x-python",
   "name": "python",
   "nbconvert_exporter": "python",
   "pygments_lexer": "ipython3",
   "version": "3.12.7"
  }
 },
 "nbformat": 4,
 "nbformat_minor": 5
}
